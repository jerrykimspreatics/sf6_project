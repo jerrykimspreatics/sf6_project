{
 "cells": [
  {
   "cell_type": "code",
   "execution_count": 54,
   "id": "8e541385-44d9-4e21-bc6e-d3375f0a4f14",
   "metadata": {},
   "outputs": [
    {
     "name": "stdout",
     "output_type": "stream",
     "text": [
      "HTTP 요청 중 오류 발생: HTTP Error 429: Too Many Requests\n"
     ]
    },
    {
     "ename": "TypeError",
     "evalue": "argument of type 'NoneType' is not iterable",
     "output_type": "error",
     "traceback": [
      "\u001b[1;31m---------------------------------------------------------------------------\u001b[0m",
      "\u001b[1;31mTypeError\u001b[0m                                 Traceback (most recent call last)",
      "Cell \u001b[1;32mIn[54], line 60\u001b[0m\n\u001b[0;32m     57\u001b[0m result \u001b[38;5;241m=\u001b[39m search_map(value)\n\u001b[0;32m     59\u001b[0m \u001b[38;5;66;03m# 주소 추출\u001b[39;00m\n\u001b[1;32m---> 60\u001b[0m address \u001b[38;5;241m=\u001b[39m result[\u001b[38;5;124m'\u001b[39m\u001b[38;5;124mitems\u001b[39m\u001b[38;5;124m'\u001b[39m][\u001b[38;5;241m0\u001b[39m][\u001b[38;5;124m'\u001b[39m\u001b[38;5;124maddress\u001b[39m\u001b[38;5;124m'\u001b[39m] \u001b[38;5;28;01mif\u001b[39;00m \u001b[38;5;124;43m'\u001b[39;49m\u001b[38;5;124;43mitems\u001b[39;49m\u001b[38;5;124;43m'\u001b[39;49m\u001b[43m \u001b[49m\u001b[38;5;129;43;01min\u001b[39;49;00m\u001b[43m \u001b[49m\u001b[43mresult\u001b[49m \u001b[38;5;129;01mand\u001b[39;00m result[\u001b[38;5;124m'\u001b[39m\u001b[38;5;124mitems\u001b[39m\u001b[38;5;124m'\u001b[39m] \u001b[38;5;28;01melse\u001b[39;00m \u001b[38;5;28;01mNone\u001b[39;00m\n\u001b[0;32m     61\u001b[0m \u001b[38;5;28;01mif\u001b[39;00m \u001b[38;5;124m'\u001b[39m\u001b[38;5;124m서울특별시\u001b[39m\u001b[38;5;124m'\u001b[39m \u001b[38;5;129;01mnot\u001b[39;00m \u001b[38;5;129;01min\u001b[39;00m qwer:\n\u001b[0;32m     62\u001b[0m     fail_count \u001b[38;5;241m+\u001b[39m\u001b[38;5;241m=\u001b[39m \u001b[38;5;241m1\u001b[39m\n",
      "\u001b[1;31mTypeError\u001b[0m: argument of type 'NoneType' is not iterable"
     ]
    }
   ],
   "source": [
    "# API로 전처리 하는과정\n",
    "\n",
    "import os\n",
    "import sys\n",
    "import urllib.request\n",
    "import json\n",
    "import time  # 타임 딜레이를 위해 time 모듈을 추가\n",
    "import pandas as pd\n",
    "\n",
    "\n",
    "df1['상권_구'] = None\n",
    "df1['다른지역'] = None\n",
    "\n",
    "def create_url(api_node, search_text, start_num, display_num):\n",
    "    base = \"https://openapi.naver.com/v1/search/\"\n",
    "    node = api_node + \".json\"\n",
    "    param_query = \"?query=\" + urllib.parse.quote(search_text)\n",
    "    param_start = \"&start=\" + str(start_num)\n",
    "    param_display = \"&display=\" + str(display_num)\n",
    "    return base + node + param_query + param_start + param_display\n",
    "\n",
    "def search_map(map1):\n",
    "    \n",
    "    url = create_url('local', map1, 1, 5)\n",
    "    client_id = \"6jnDIhoKlzZFARkWhy7w\"\n",
    "    client_secret = \"QO88XY93_1\"\n",
    "    \n",
    "    request = urllib.request.Request(url)\n",
    "    request.add_header(\"X-Naver-Client-Id\", client_id)\n",
    "    request.add_header(\"X-Naver-Client-Secret\", client_secret)\n",
    "    \n",
    "    try:\n",
    "        response = urllib.request.urlopen(request)\n",
    "        time.sleep(0.2)  # 타임 딜레이를 1초로 설정\n",
    "        rescode = response.getcode()\n",
    "        if(rescode == 200):\n",
    "            response_body = response.read()\n",
    "            result = json.loads(response_body.decode('utf-8'))\n",
    "        else:\n",
    "            print(\"Error Code:\" + rescode)\n",
    "            result = None\n",
    "    except Exception as e:\n",
    "        print(f\"HTTP 요청 중 오류 발생: {e}\")\n",
    "        result = None\n",
    "    # print(result)    \n",
    "    return result\n",
    "\n",
    "# ------------------------------------------------------------------------------------------------\n",
    "count = 0 \n",
    "fail_count = 0\n",
    "\n",
    "\n",
    "# 데이터 로드\n",
    "df1 = pd.read_csv(r\"C:/Users/yjk23/sf6-data/datas/main.csv\", encoding=\"EUC-KR\")\n",
    "df1['상권배후지_코드'] = df1['상권배후지_코드'].astype(str)\n",
    "for index, value in enumerate(df1['상권배후지_코드_명']):\n",
    "    global count\n",
    "    global fail_count\n",
    "    result = search_map(value)\n",
    "    \n",
    "    # 주소 추출\n",
    "    address = result['items'][0]['address'] if 'items' in result and result['items'] else None\n",
    "    if '서울특별시' not in qwer:\n",
    "        fail_count += 1\n",
    "        df1.loc[index, '다른지역'] = address\n",
    "    if address:  # 주소가 유효한 경우\n",
    "        count += 1\n",
    "        district = address.split(\" \")[1]  # 구 정보 추출\n",
    "        df1.loc[index, '상권배후지_코드'] = district  # 차례대로 할당\n",
    "        df1.loc[index, '상권_구'] = district\n",
    "\n",
    "df1.to_csv(r\"C:/Users/yjk23/sf6-data/datas/real_main.csv\", encoding=\"EUC-KR\", index=False)\n",
    "\n",
    "# 결과 출력\n",
    "print(\"성공: \",count)\n",
    "print(\"실패: \",fail_count)\n",
    "# print(df1)\n",
    "\n",
    "# loc를 사용하여 값 할당\n"
   ]
  }
 ],
 "metadata": {
  "kernelspec": {
   "display_name": "Python 3 (ipykernel)",
   "language": "python",
   "name": "python3"
  },
  "language_info": {
   "codemirror_mode": {
    "name": "ipython",
    "version": 3
   },
   "file_extension": ".py",
   "mimetype": "text/x-python",
   "name": "python",
   "nbconvert_exporter": "python",
   "pygments_lexer": "ipython3",
   "version": "3.12.4"
  }
 },
 "nbformat": 4,
 "nbformat_minor": 5
}
